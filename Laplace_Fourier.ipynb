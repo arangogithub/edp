{
 "cells": [
  {
   "cell_type": "markdown",
   "metadata": {},
   "source": [
    "# <p style=\"text-align: center;\"> Laplace equation and Fourier series </p>\n",
    "## <p style=\"text-align: center;\"> Rectangle with null Dirichlet condition</p>\n",
    "\n",
    "$$\n",
    "\\frac{\\partial^2  u}{\\partial x^2 }+ \\frac{\\partial^2 u}{\\partial y^2} = 0,  \\qquad   (x,y)\\in (0,a)\\times (0,b).  \n",
    "$$\n",
    "The boundary conditions are as follows\n",
    "$$\n",
    "u(x, 0 ) = f(x), \\quad u(x, b)=0,  \\quad u(0, y)=0,   \\quad u(a, y)=0.\n",
    "$$\n",
    " \n",
    "\n",
    "## Explicit solution\n",
    "See [P. Olver](http://www-users.math.umn.edu/~olver/pde.html) Section 4.3:  *The planar Laplace and Poisson equation*\n",
    "\n",
    "$$\n",
    "u(x,y) = \\sum_{n = 1}^{\\infty} \\frac{b_n\\, \\sin{\\frac{n\\, \\pi\\, x}{a}}\\, \\sinh{\\frac{n\\, \\pi\\, (b-y)}{a}} }{\\sinh{\\frac{n\\, \\pi\\, b}{a}}}, \n",
    "$$\n",
    "where\n",
    "$$\n",
    "b_n = \\frac{2}{a}\\int_{0}^{a} f(x)\\, \\sin{\\frac{n\\, \\pi\\, x}{a}}\\, dx.   \n",
    "$$ \n",
    "## A  particular case  \n",
    "$$ a=\\pi, \\quad b =  \\pi, \\quad f(x)\\equiv 1,$$\n",
    "so that \n",
    "$$ b_n = \\frac{2\\left(1-\\left(-1\\right)^n\\right)}{n\\, \\pi}$$\n",
    "\n",
    "$$\n",
    "u(x,y) = \\frac{4}{\\pi}\\,\\sum_{n = 1}^{\\infty} \\frac{ \\sin\\left(\\left( 2n+1\\right)x\\right)\\, \\sinh{\\left(\\left(2n+1\\right)\\left(\\pi -y\\right)\\right)}}{\\left(2n+1\\right) \\sinh \\left(\\left( 2n+1\\right)\\pi\\right) }, \n",
    "$$"
   ]
  },
  {
   "cell_type": "code",
   "execution_count": 1,
   "metadata": {},
   "outputs": [
    {
     "name": "stdout",
     "output_type": "stream",
     "text": [
      "Using matplotlib backend: Qt5Agg\n"
     ]
    }
   ],
   "source": [
    "import numpy as np\n",
    "import matplotlib.pyplot as plt\n",
    "%matplotlib"
   ]
  },
  {
   "cell_type": "code",
   "execution_count": 2,
   "metadata": {},
   "outputs": [],
   "source": [
    "# nn is the truncation order \n",
    "pi = np.pi\n",
    "nn = 20\n",
    "odds =np.array([2*n+1 for n in range(nn)])\n",
    "odds = np.resize(odds,(nn,1))"
   ]
  },
  {
   "cell_type": "markdown",
   "metadata": {},
   "source": [
    "We are about to define $u(x,y)$ using a tecnique known as *array broadcasting*. Broadcasting avoides the slow loops (*for and while* instruction). Loops in Python are time consuming and resource expensive.  Take a look at the excerpt of Jake VanderPlas book  *Python Data Science Handbook*  \n",
    "[broadcasting](https://jakevdp.github.io/PythonDataScienceHandbook/02.05-computation-on-arrays-broadcasting.html)"
   ]
  },
  {
   "cell_type": "code",
   "execution_count": 3,
   "metadata": {},
   "outputs": [],
   "source": [
    "def u(x,y):\n",
    "    numerator = 4*np.sin(odds*x)*np.sinh(odds*(pi-y))\n",
    "    denominator = pi*odds*np.sinh(odds*pi)\n",
    "    return np.sum(numerator/denominator, axis = 0)"
   ]
  },
  {
   "cell_type": "code",
   "execution_count": 4,
   "metadata": {},
   "outputs": [],
   "source": [
    "# nsteps thdefines  the size of the discretization in x and y\n",
    "nsteps = 100\n",
    "xx, yy = np.linspace(0, pi,nsteps), np.linspace(0, pi,nsteps)"
   ]
  },
  {
   "cell_type": "code",
   "execution_count": 5,
   "metadata": {},
   "outputs": [],
   "source": [
    "fig = plt.figure(figsize = (10,2))\n",
    "##################################\n",
    "ax  = fig.add_subplot(111)\n",
    "ax.plot(xx, u(xx,0), 'b', label=r'$y = 0$')\n",
    "ax.plot(xx, u(xx,pi/100), 'k', label=r'$y = \\frac{\\pi}{100}$')\n",
    "ax.plot(xx, u(xx,pi/8), 'r', label=r'$y = \\frac{\\pi}{8}$')\n",
    "ax.plot(xx, u(xx,pi/2), 'g', label=r'$y = \\frac{\\pi}{2}$')\n",
    "ax.legend(loc='best')\n",
    "plt.title('Solutions profiles')\n",
    "plt.show()"
   ]
  },
  {
   "cell_type": "code",
   "execution_count": 6,
   "metadata": {},
   "outputs": [],
   "source": [
    "from mpl_toolkits import mplot3d\n",
    "fig = plt.figure()\n",
    "ax3d = plt.axes(projection='3d')\n",
    "for k in range(10):\n",
    "    ss = k*pi/10*np.ones(nsteps)\n",
    "    zz = u(k*pi/10, yy)\n",
    "    ax3d.plot3D(ss, yy, zz, 'black')\n",
    "for k in range(20):\n",
    "    ss = k*pi/20*np.ones(nsteps)\n",
    "    zz = u(xx, k*pi/20)\n",
    "    ax3d.plot3D(xx, ss, zz, 'blue')    "
   ]
  },
  {
   "cell_type": "code",
   "execution_count": null,
   "metadata": {},
   "outputs": [],
   "source": []
  }
 ],
 "metadata": {
  "kernelspec": {
   "display_name": "Python 3",
   "language": "python",
   "name": "python3"
  },
  "language_info": {
   "codemirror_mode": {
    "name": "ipython",
    "version": 3
   },
   "file_extension": ".py",
   "mimetype": "text/x-python",
   "name": "python",
   "nbconvert_exporter": "python",
   "pygments_lexer": "ipython3",
   "version": "3.7.6"
  }
 },
 "nbformat": 4,
 "nbformat_minor": 4
}

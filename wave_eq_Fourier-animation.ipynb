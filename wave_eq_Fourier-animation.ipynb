{
 "cells": [
  {
   "cell_type": "markdown",
   "metadata": {},
   "source": [
    "# Resolución de la ecuación de onda mediante series de Fourier\n",
    "\n",
    "$$\n",
    "\\frac{\\partial^2  u}{\\partial t^2 } = c^2\\, \\frac{\\partial^2 u}{\\partial x^2}   \\qquad   x\\in S^1, \\quad t>0.\n",
    "$$\n",
    "Las condiciones de borde son tipo Dirichlet\n",
    "$$\n",
    "u(t, 0 ) = 0, \\quad u(t, l)=0  ,\n",
    "$$\n",
    "y las  condiciones  iniciales son \n",
    "\n",
    "$$u(0,x) = f(x), \\quad u_{t}(0,x) = g(x)$$\n",
    " \n",
    "\n",
    "## Solución explícita\n",
    "Ver por ejemplo [P. Olver](http://www-users.math.umn.edu/~olver/pde.html) Section 4.2:  *The wave equation*\n",
    "\n",
    "$$\n",
    "u(t,x) = \\sum_{n = 1}^{\\infty} b_n\\, \\cos{\\frac{n\\, \\pi\\, c\\, t}{l}}\\, \\sin{\\frac{n\\, \\pi\\, x}{l}} + d_n\\, \\sin{\\frac{n\\, \\pi\\, c\\, t}{l}}\\, \\sin{\\frac{n\\, \\pi\\, x}{l}},\n",
    "$$\n",
    "en donde \n",
    "$$\n",
    "b_n = \\frac{2}{l}\\int_{0}^{l} f(x)\\, \\sin{\\frac{n\\, \\pi\\, x}{l}}\\, dx,  \\quad \n",
    "d_n = \\frac{2}{n\\, \\pi \\, c}\\int_{0}^{l} g(x)\\, \\sin{\\frac{n\\, \\pi\\, x}{l}}\\, dx \\quad\n",
    "$$ "
   ]
  },
  {
   "cell_type": "code",
   "execution_count": 21,
   "metadata": {},
   "outputs": [
    {
     "name": "stdout",
     "output_type": "stream",
     "text": [
      "Using matplotlib backend: Qt5Agg\n"
     ]
    }
   ],
   "source": [
    "import numpy as np\n",
    "import matplotlib.pyplot as plt\n",
    "import matplotlib.animation as animation\n",
    "import scipy.integrate as integrate\n",
    "%matplotlib"
   ]
  },
  {
   "cell_type": "code",
   "execution_count": 22,
   "metadata": {},
   "outputs": [],
   "source": [
    "Writer = animation.writers['ffmpeg']\n",
    "writer = Writer(fps=15, metadata=dict(artist='Me'), bitrate=1800)"
   ]
  },
  {
   "cell_type": "code",
   "execution_count": 23,
   "metadata": {},
   "outputs": [],
   "source": [
    "# Algunos prámetros físicos \n",
    "l, c = 1, 1"
   ]
  },
  {
   "cell_type": "code",
   "execution_count": 24,
   "metadata": {},
   "outputs": [],
   "source": [
    "##########################\n",
    "N = 12   # número de coeficientes de Fourier\n",
    "M = 400   # tamaño de la discretización definido por $\\delta$\n",
    "################################################\n",
    "x = np.linspace(0, l, M)"
   ]
  },
  {
   "cell_type": "code",
   "execution_count": 25,
   "metadata": {},
   "outputs": [],
   "source": [
    "# Definimos algunas funciones que servirán de condiciones iniciales\n",
    "ampl, wd, xr = l/4, l/10, l/5\n",
    "\n",
    "bloque = np.piecewise(x, [np.abs(x-l/2) < wd, np.abs(x-l/2) > wd], [ampl, 0])\n",
    "diente = np.piecewise(x, [np.abs(x-l/2) < wd, np.abs(x-l/2) > wd], \n",
    "                      [lambda x: (ampl/wd)*(wd-np.abs(x-l/2)), 0])\n",
    "plug = np.piecewise(x, [x < xr, x >xr], \n",
    "                    [lambda x: ampl*x/xr, lambda x: -ampl*x/(l-xr)+ampl*(1+xr/(l-xr))])\n",
    "cero = np.zeros(M)"
   ]
  },
  {
   "cell_type": "code",
   "execution_count": 26,
   "metadata": {},
   "outputs": [],
   "source": [
    "fig = plt.figure(figsize=(30,7))\n",
    "ax = fig.add_subplot(111)\n",
    "ax.plot(x,plug, lw = 4, label='plug')\n",
    "ax.plot(x,diente, lw = 4, label='diente')\n",
    "ax.plot(x,bloque, lw = 4, label='bloque')\n",
    "legend = ax.legend(loc='upper right', shadow=True, fontsize='x-large')\n",
    "legend.get_frame().set_facecolor('#00FFCC')\n",
    "plt.show()"
   ]
  },
  {
   "cell_type": "code",
   "execution_count": 7,
   "metadata": {},
   "outputs": [],
   "source": [
    "f, g = cero, plug"
   ]
  },
  {
   "cell_type": "code",
   "execution_count": 27,
   "metadata": {},
   "outputs": [],
   "source": [
    "#Los $b_n$ y $d_n$ se calculan por integración numérica\n",
    "nn = np.array(range(1,N+1))\n",
    "n = nn.reshape((N,1))\n",
    "y = np.sin(n*x*np.pi/l) \n",
    "b = (2/l)*integrate.simps(y*f, x)\n",
    "b = b.reshape((N,1))\n",
    "dd = (2/l*np.pi*c)*integrate.simps(y*g, x) \n",
    "d  = dd.reshape((N,1))*1/n \n",
    "x_part1, x_part2 = b*y, d*y"
   ]
  },
  {
   "cell_type": "code",
   "execution_count": 28,
   "metadata": {},
   "outputs": [],
   "source": [
    "def perfil(t):\n",
    "    return np.sum(np.cos((c/l)*np.pi*t*n)*x_part1, axis = 0)  + (\n",
    "        np.sum(np.sin((c/l)*np.pi*t*n)*x_part2, axis = 0)) "
   ]
  },
  {
   "cell_type": "code",
   "execution_count": 29,
   "metadata": {},
   "outputs": [],
   "source": [
    "prof = perfil(0.15)\n",
    "f_ampl = np.max(abs(prof))\n",
    "fig = plt.figure(figsize=(30,7))\n",
    "ax = fig.add_subplot(111)\n",
    "ax.plot(x,prof, lw = 10)\n",
    "plt.axhline(y=0.0, color='r', linestyle='-.')\n",
    "ax.set_ylim([-f_ampl*1.05, f_ampl*1.05])\n",
    "plt.show()"
   ]
  },
  {
   "cell_type": "markdown",
   "metadata": {},
   "source": [
    "## Animación"
   ]
  },
  {
   "cell_type": "code",
   "execution_count": 30,
   "metadata": {},
   "outputs": [
    {
     "data": {
      "text/plain": [
       "(-0.625, 0.625)"
      ]
     },
     "execution_count": 30,
     "metadata": {},
     "output_type": "execute_result"
    }
   ],
   "source": [
    "fig = plt.figure(figsize=(30,7))\n",
    "ax = fig.add_subplot(111)\n",
    "line, = ax.plot(x, f, lw =10)\n",
    "ax.axhline(y=0.0, color='r', linestyle='-.')\n",
    "ax.set_ylim([-ampl*2.5, ampl*2.5])\n"
   ]
  },
  {
   "cell_type": "code",
   "execution_count": 31,
   "metadata": {},
   "outputs": [],
   "source": [
    "def animacion(i):\n",
    "    line.set_ydata(perfil(i/100))  # update the data\n",
    "    return line,"
   ]
  },
  {
   "cell_type": "code",
   "execution_count": 32,
   "metadata": {},
   "outputs": [],
   "source": [
    "def init():\n",
    "    line.set_ydata(np.ma.array(x, mask=True))\n",
    "    return line,"
   ]
  },
  {
   "cell_type": "code",
   "execution_count": 33,
   "metadata": {},
   "outputs": [],
   "source": [
    "ani = animation.FuncAnimation(fig, animacion, np.arange(1, 300), init_func=init,\n",
    "                              interval=50, blit=True)\n",
    "ani.save('onda2.mp4', metadata={'artist':'Socarronte'})\n",
    "\n",
    "plt.show()"
   ]
  },
  {
   "cell_type": "code",
   "execution_count": null,
   "metadata": {},
   "outputs": [],
   "source": []
  }
 ],
 "metadata": {
  "kernelspec": {
   "display_name": "Python 3",
   "language": "python",
   "name": "python3"
  },
  "language_info": {
   "codemirror_mode": {
    "name": "ipython",
    "version": 3
   },
   "file_extension": ".py",
   "mimetype": "text/x-python",
   "name": "python",
   "nbconvert_exporter": "python",
   "pygments_lexer": "ipython3",
   "version": "3.7.6"
  }
 },
 "nbformat": 4,
 "nbformat_minor": 2
}
